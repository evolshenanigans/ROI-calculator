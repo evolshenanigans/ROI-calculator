{
 "cells": [
  {
   "cell_type": "code",
   "execution_count": 1,
   "metadata": {},
   "outputs": [
    {
     "ename": "KeyboardInterrupt",
     "evalue": "Interrupted by user",
     "output_type": "error",
     "traceback": [
      "\u001b[1;31m---------------------------------------------------------------------------\u001b[0m",
      "\u001b[1;31mKeyboardInterrupt\u001b[0m                         Traceback (most recent call last)",
      "\u001b[1;32m~\\AppData\\Local\\Temp/ipykernel_20392/2349839177.py\u001b[0m in \u001b[0;36m<module>\u001b[1;34m\u001b[0m\n\u001b[0;32m     71\u001b[0m             \u001b[0mprint\u001b[0m\u001b[1;33m(\u001b[0m\u001b[1;34m\"Error: Please try again.\"\u001b[0m\u001b[1;33m)\u001b[0m\u001b[1;33m\u001b[0m\u001b[1;33m\u001b[0m\u001b[0m\n\u001b[0;32m     72\u001b[0m \u001b[1;33m\u001b[0m\u001b[0m\n\u001b[1;32m---> 73\u001b[1;33m \u001b[0mrun\u001b[0m\u001b[1;33m(\u001b[0m\u001b[1;33m)\u001b[0m\u001b[1;33m\u001b[0m\u001b[1;33m\u001b[0m\u001b[0m\n\u001b[0m",
      "\u001b[1;32m~\\AppData\\Local\\Temp/ipykernel_20392/2349839177.py\u001b[0m in \u001b[0;36mrun\u001b[1;34m()\u001b[0m\n\u001b[0;32m     53\u001b[0m \u001b[1;32mdef\u001b[0m \u001b[0mrun\u001b[0m\u001b[1;33m(\u001b[0m\u001b[1;33m)\u001b[0m\u001b[1;33m:\u001b[0m\u001b[1;33m\u001b[0m\u001b[1;33m\u001b[0m\u001b[0m\n\u001b[0;32m     54\u001b[0m     \u001b[1;32mwhile\u001b[0m \u001b[1;32mTrue\u001b[0m\u001b[1;33m:\u001b[0m\u001b[1;33m\u001b[0m\u001b[1;33m\u001b[0m\u001b[0m\n\u001b[1;32m---> 55\u001b[1;33m         \u001b[0mcalculating\u001b[0m \u001b[1;33m=\u001b[0m \u001b[0minput\u001b[0m\u001b[1;33m(\u001b[0m\u001b[1;34m\"What would you like to calculate or visualize: initial investment(1), expenses(2), mortgage(3), cash flow(4) or your return on investment(5) or 'quit' to end. \"\u001b[0m\u001b[1;33m)\u001b[0m\u001b[1;33m\u001b[0m\u001b[1;33m\u001b[0m\u001b[0m\n\u001b[0m\u001b[0;32m     56\u001b[0m         \u001b[1;32mif\u001b[0m \u001b[0mcalculating\u001b[0m \u001b[1;33m==\u001b[0m \u001b[1;34m\"1\"\u001b[0m\u001b[1;33m:\u001b[0m\u001b[1;33m\u001b[0m\u001b[1;33m\u001b[0m\u001b[0m\n\u001b[0;32m     57\u001b[0m             \u001b[0mprint\u001b[0m\u001b[1;33m(\u001b[0m\u001b[0mnewHome\u001b[0m\u001b[1;33m.\u001b[0m\u001b[0minitialRentalCalc\u001b[0m\u001b[1;33m(\u001b[0m\u001b[1;33m)\u001b[0m\u001b[1;33m)\u001b[0m\u001b[1;33m\u001b[0m\u001b[1;33m\u001b[0m\u001b[0m\n",
      "\u001b[1;32m~\\anaconda3\\lib\\site-packages\\ipykernel\\kernelbase.py\u001b[0m in \u001b[0;36mraw_input\u001b[1;34m(self, prompt)\u001b[0m\n\u001b[0;32m   1004\u001b[0m                 \u001b[1;34m\"raw_input was called, but this frontend does not support input requests.\"\u001b[0m\u001b[1;33m\u001b[0m\u001b[1;33m\u001b[0m\u001b[0m\n\u001b[0;32m   1005\u001b[0m             )\n\u001b[1;32m-> 1006\u001b[1;33m         return self._input_request(\n\u001b[0m\u001b[0;32m   1007\u001b[0m             \u001b[0mstr\u001b[0m\u001b[1;33m(\u001b[0m\u001b[0mprompt\u001b[0m\u001b[1;33m)\u001b[0m\u001b[1;33m,\u001b[0m\u001b[1;33m\u001b[0m\u001b[1;33m\u001b[0m\u001b[0m\n\u001b[0;32m   1008\u001b[0m             \u001b[0mself\u001b[0m\u001b[1;33m.\u001b[0m\u001b[0m_parent_ident\u001b[0m\u001b[1;33m[\u001b[0m\u001b[1;34m\"shell\"\u001b[0m\u001b[1;33m]\u001b[0m\u001b[1;33m,\u001b[0m\u001b[1;33m\u001b[0m\u001b[1;33m\u001b[0m\u001b[0m\n",
      "\u001b[1;32m~\\anaconda3\\lib\\site-packages\\ipykernel\\kernelbase.py\u001b[0m in \u001b[0;36m_input_request\u001b[1;34m(self, prompt, ident, parent, password)\u001b[0m\n\u001b[0;32m   1049\u001b[0m             \u001b[1;32mexcept\u001b[0m \u001b[0mKeyboardInterrupt\u001b[0m\u001b[1;33m:\u001b[0m\u001b[1;33m\u001b[0m\u001b[1;33m\u001b[0m\u001b[0m\n\u001b[0;32m   1050\u001b[0m                 \u001b[1;31m# re-raise KeyboardInterrupt, to truncate traceback\u001b[0m\u001b[1;33m\u001b[0m\u001b[1;33m\u001b[0m\u001b[0m\n\u001b[1;32m-> 1051\u001b[1;33m                 \u001b[1;32mraise\u001b[0m \u001b[0mKeyboardInterrupt\u001b[0m\u001b[1;33m(\u001b[0m\u001b[1;34m\"Interrupted by user\"\u001b[0m\u001b[1;33m)\u001b[0m \u001b[1;32mfrom\u001b[0m \u001b[1;32mNone\u001b[0m\u001b[1;33m\u001b[0m\u001b[1;33m\u001b[0m\u001b[0m\n\u001b[0m\u001b[0;32m   1052\u001b[0m             \u001b[1;32mexcept\u001b[0m \u001b[0mException\u001b[0m\u001b[1;33m:\u001b[0m\u001b[1;33m\u001b[0m\u001b[1;33m\u001b[0m\u001b[0m\n\u001b[0;32m   1053\u001b[0m                 \u001b[0mself\u001b[0m\u001b[1;33m.\u001b[0m\u001b[0mlog\u001b[0m\u001b[1;33m.\u001b[0m\u001b[0mwarning\u001b[0m\u001b[1;33m(\u001b[0m\u001b[1;34m\"Invalid Message:\"\u001b[0m\u001b[1;33m,\u001b[0m \u001b[0mexc_info\u001b[0m\u001b[1;33m=\u001b[0m\u001b[1;32mTrue\u001b[0m\u001b[1;33m)\u001b[0m\u001b[1;33m\u001b[0m\u001b[1;33m\u001b[0m\u001b[0m\n",
      "\u001b[1;31mKeyboardInterrupt\u001b[0m: Interrupted by user"
     ]
    }
   ],
   "source": [
    "class RentProbCalc:\n",
    "    \n",
    "    def __init__(self):\n",
    "        self.rent = []\n",
    "        self.totalMonthlyIncome = []\n",
    "        self.totalExpenses = []\n",
    "        self.totalMonthlyCashFlow = []\n",
    "        self.propertyCost = []\n",
    "        \n",
    "        \n",
    "        \n",
    "    def expenses(self):\n",
    "        tax = int(input(\"Amount of Property Tax: \"))\n",
    "        insurance = int(input(\"Total Insurance Cost: \"))\n",
    "        vacancyPercent = int(input(\" Percent of rental income deducted from vacancy: \")) \n",
    "        vacancyExpense = vacancyPercent / self.rent\n",
    "        self.totalExpenses = tax + insurance + vacancyExpense\n",
    "        print(f\"vacancyExpense is {vacancyExpense}\")\n",
    "        \n",
    "    def initialRentalCalc(self):\n",
    "        self.propertyCost = int(input(\"Listing Price for Property: \"))\n",
    "        self.rent = int(input(\"Rent Received from Tenants: \"))\n",
    "        otherIncome = int(input(\"Any other income from tenants: \"))\n",
    "        self.totalMonthlyIncome = self.rent + otherIncome\n",
    "        print(f\"The total monthly income you will receive from this property is: {self.totalMonthlyIncome}\")\n",
    "\n",
    "        \n",
    "    def mortgageCalc(self):\n",
    "        lifeOfLoan = int(input(\"Term length set for loan contract: \"))\n",
    "        mortgage = self.propertyCost / lifeOfLoan \n",
    "        print(f\"The monthly mortgage on this property is {mortgage}\")\n",
    "    \n",
    "\n",
    "    def cashFlow(self):\n",
    "        self.totalMonthlyCashFlow = self.totalMonthlyIncome - self.totalExpenses\n",
    "        print(f\"your total monthly cash flow after deducting monthly expenses is {self.totalMonthlyCashFlow}\")\n",
    "    \n",
    "\n",
    "    def returnOnInvestment(self):\n",
    "        downPayment = int(input(\"total money put down for property: \"))\n",
    "        closingCost = int(input(\"Enter your closing cost: \"))\n",
    "        rehabBudget = int(input(\"Did you make any fixes to your property if so enter the total amount spent on the flip: \"))\n",
    "        totalInvestment = downPayment + closingCost + rehabBudget\n",
    "        print(f\"Your total investment into this property is {totalInvestment}\")\n",
    "        annualCashFlow = self.totalMonthlyCashFlow * 12\n",
    "        roi = annualCashFlow / totalInvestment\n",
    "        print(f\"Your return on investment is {roi}\")\n",
    "\n",
    "\n",
    "newHome = RentProbCalc()\n",
    "\n",
    "\n",
    "def run():\n",
    "    while True:\n",
    "        calculating = input(\"calulations for: initial investment(1), expenses(2), mortgage(3), cash flow(4) or your return on investment(5) or 'quit' to end. \")\n",
    "        if calculating == \"1\":\n",
    "            print(newHome.initialRentalCalc())\n",
    "        elif calculating == \"2\":\n",
    "            print(newHome.expenses())\n",
    "        elif calculating == \"3\":\n",
    "            print(newHome.initialRentalCalc())\n",
    "            print(newHome.mortgageCalc())\n",
    "        elif calculating == \"4\":\n",
    "            print(newHome.cashFlow())\n",
    "        elif calculating == \"5\":\n",
    "            print(newHome.initialRentalCalc())\n",
    "            print(newHome.returnOnInvestment())\n",
    "        elif calculating == \"quit\":\n",
    "            break\n",
    "        else: \n",
    "            print(\"Error: Please try again.\")\n",
    "            \n",
    "run()"
   ]
  },
  {
   "cell_type": "code",
   "execution_count": null,
   "metadata": {},
   "outputs": [],
   "source": []
  }
 ],
 "metadata": {
  "interpreter": {
   "hash": "ff01ba64261f8397de0ac8a48cd5dfe75e6486a52ad79bcd26ac16ede9d241b1"
  },
  "kernelspec": {
   "display_name": "Python 3.9.7 ('base')",
   "language": "python",
   "name": "python3"
  },
  "language_info": {
   "codemirror_mode": {
    "name": "ipython",
    "version": 3
   },
   "file_extension": ".py",
   "mimetype": "text/x-python",
   "name": "python",
   "nbconvert_exporter": "python",
   "pygments_lexer": "ipython3",
   "version": "3.9.7"
  },
  "orig_nbformat": 4
 },
 "nbformat": 4,
 "nbformat_minor": 2
}
